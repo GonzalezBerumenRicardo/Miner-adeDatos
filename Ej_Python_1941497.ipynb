{
  "nbformat": 4,
  "nbformat_minor": 0,
  "metadata": {
    "colab": {
      "name": "Ej_Python_1941497.ipynb",
      "provenance": [],
      "collapsed_sections": [],
      "authorship_tag": "ABX9TyPTPNeKzsJJRVCw72EWDy+y",
      "include_colab_link": true
    },
    "kernelspec": {
      "name": "python3",
      "display_name": "Python 3"
    },
    "language_info": {
      "name": "python"
    }
  },
  "cells": [
    {
      "cell_type": "markdown",
      "metadata": {
        "id": "view-in-github",
        "colab_type": "text"
      },
      "source": [
        "<a href=\"https://colab.research.google.com/github/GonzalezBerumenRicardo/MineriadeDatos/blob/main/Ej_Python_1941497.ipynb\" target=\"_parent\"><img src=\"https://colab.research.google.com/assets/colab-badge.svg\" alt=\"Open In Colab\"/></a>"
      ]
    },
    {
      "cell_type": "markdown",
      "metadata": {
        "id": "LhvzAB8Z6XJp"
      },
      "source": [
        "# **Ejercicios de Python**"
      ]
    },
    {
      "cell_type": "markdown",
      "metadata": {
        "id": "8--V_wtTUtOB"
      },
      "source": [
        "**Ejercicio 1:**\n",
        "Realiza una variable con tu matricula y realiza una secuencia de imprimir con tu nombre y tu matricula concatenados."
      ]
    },
    {
      "cell_type": "code",
      "metadata": {
        "colab": {
          "base_uri": "https://localhost:8080/"
        },
        "id": "BUcRn4yHUvfq",
        "outputId": "c04ecb14-e675-413e-8e39-08c13f775407"
      },
      "source": [
        "Matricula= int(input(\"Introduce tu matrícula:\" ))\n",
        "Nombre= str(input(\"Introduce tu nombre:\" ))\n",
        "print(\"Nombre: \", Nombre)\n",
        "print(\"Matrícula: \", Matricula)\n"
      ],
      "execution_count": 5,
      "outputs": [
        {
          "output_type": "stream",
          "text": [
            "Introduce tu matrícula:1941497\n",
            "Introduce tu nombre:Ricardo González Berumen\n",
            "Nombre:  Ricardo González Berumen\n",
            "Matrícula:  1941497\n"
          ],
          "name": "stdout"
        }
      ]
    },
    {
      "cell_type": "markdown",
      "metadata": {
        "id": "aFxERe5IdAtz"
      },
      "source": [
        "**Ejercicio 2:**\n",
        "Pidiendo el input del usuario pide dos números y crea una pequeña calculadora con los operadores básicos de suma, resta, multiplicación, división, y exponente."
      ]
    },
    {
      "cell_type": "code",
      "metadata": {
        "colab": {
          "base_uri": "https://localhost:8080/"
        },
        "id": "tOqHaYaOdE7a",
        "outputId": "f3159726-511a-4489-92e9-299c497e288e"
      },
      "source": [
        "x=float(input(\"Introduce el primer número: \"))\n",
        "y=float(input(\"Introduce el segundo número: \"))\n",
        "opcion=int(input(\"¿Qué quieres hacer con los números?\\n 1=Suma, 2=Resta, 3=Multiplicación, 4=División, 5=Exponente\\n\"))\n",
        "if opcion==1:\n",
        "  res= x+y\n",
        "  print(\"El resultado es: \",res)\n",
        "elif opcion==2:\n",
        "  res= x-y\n",
        "  print(\"El resultado es: \",res)\n",
        "elif opcion==3:\n",
        "  res= x*y\n",
        "  print(\"El resultado es: \",res)\n",
        "elif opcion==4:\n",
        "  res= x/y\n",
        "  print(\"El resultado es: \",res)\n",
        "elif opcion==5:\n",
        "  res= x**y\n",
        "  print(\"El resultado es: \",res)\n",
        "else:\n",
        "  print(\"Inténtelo de nuevo.\")"
      ],
      "execution_count": 81,
      "outputs": [
        {
          "output_type": "stream",
          "text": [
            "Introduce el primer número: 5\n",
            "Introduce el segundo número: 6\n",
            "¿Qué quieres hacer con los números?\n",
            " 1=Suma, 2=Resta, 3=Multiplicación, 4=División, 5=Exponente\n",
            "5\n",
            "El resultado es:  15625.0\n"
          ],
          "name": "stdout"
        }
      ]
    },
    {
      "cell_type": "markdown",
      "metadata": {
        "id": "2EpfbVVngmq5"
      },
      "source": [
        "**Ejercicio 3:**\n",
        "Con loop while o for, realiza una lista de 10 numeros multiplos de 3, y después realiza una función de loop que sume todos los números dentro del arreglo."
      ]
    },
    {
      "cell_type": "code",
      "metadata": {
        "colab": {
          "base_uri": "https://localhost:8080/"
        },
        "id": "h1YdEH-Lgrza",
        "outputId": "c2cd62a3-661f-44d5-b668-e0f7d9c3f805"
      },
      "source": [
        "n=10\n",
        "def lista(n):\n",
        "      lista = [0]  * n\n",
        "      x=0\n",
        "      for i in range(n):\n",
        "          lista[i] = 3+3*x\n",
        "          x+=1\n",
        "      return lista\n",
        "numeros=lista(n)\n",
        "print(\"Primeros 10 múltiplos de 3: \", numeros)\n",
        "sumaa=0\n",
        "i=0\n",
        "while i<10:\n",
        "  sumaa= sumaa+numeros[i];\n",
        "  i+=1\n",
        "print(\"Suma de todos los números del arreglo: \", sumaa)\n"
      ],
      "execution_count": 72,
      "outputs": [
        {
          "output_type": "stream",
          "text": [
            "Primeros 10 múltiplos de 3:  [3, 6, 9, 12, 15, 18, 21, 24, 27, 30]\n",
            "Suma de todos los números del arreglo:  165\n"
          ],
          "name": "stdout"
        }
      ]
    },
    {
      "cell_type": "markdown",
      "metadata": {
        "id": "8cQ5adxrqBUz"
      },
      "source": [
        "**Ejercicio 4**\n",
        "Con una función de if else, revisar si un número es par o es impar.\n",
        "Con una función de if else, revisar si un número es primo o no."
      ]
    },
    {
      "cell_type": "code",
      "metadata": {
        "colab": {
          "base_uri": "https://localhost:8080/"
        },
        "id": "pxU4u9riqJkd",
        "outputId": "a296fe61-8daf-4fd2-a61e-360eaec101da"
      },
      "source": [
        "def parimpar():\n",
        "    print(\"PARES E IMPARES\")\n",
        "    numero = int(input(\"Escriba un número entero: \"))\n",
        "    if numero % 2 == 0:\n",
        "      print(\"El número es par.\")\n",
        "    else:\n",
        "      print(\"El número es impar.\")\n",
        "\n",
        "def primo():\n",
        "    print(\"NÚMERO PRIMO\")\n",
        "    numero = int(input(\"Escriba un número entero mayor que 1: \"))\n",
        "\n",
        "    if numero <= 1:\n",
        "        print(\"¡Le he pedido un número entero mayor que 1!\")\n",
        "    else:\n",
        "        contador = 0\n",
        "        limite = round(numero ** 0.5)\n",
        "        for i in range(1, limite + 1):\n",
        "            if numero % i == 0:\n",
        "                contador = contador + 1\n",
        "        if contador == 1:\n",
        "            print(f\"{numero} es primo.\")\n",
        "        else:\n",
        "            print(f\"{numero} no es primo.\")\n",
        "parimpar()\n",
        "primo()"
      ],
      "execution_count": 80,
      "outputs": [
        {
          "output_type": "stream",
          "text": [
            "PARES E IMPARES\n",
            "Escriba un número entero: 2\n",
            "El número es par.\n",
            "NÚMERO PRIMO\n",
            "Escriba un número entero mayor que 1: 7\n",
            "7 es primo.\n"
          ],
          "name": "stdout"
        }
      ]
    },
    {
      "cell_type": "markdown",
      "metadata": {
        "id": "r6XCeSeusAl-"
      },
      "source": [
        "**Ejercicio 5**\n",
        "Utilizando diferentes clases en python, crea una calculadora con los operadores básicos de suma, resta, multiplicación, división, y exponente."
      ]
    },
    {
      "cell_type": "code",
      "metadata": {
        "colab": {
          "base_uri": "https://localhost:8080/"
        },
        "id": "cOZHvg_XsNS9",
        "outputId": "4f950c42-cdc6-4284-8177-c347c72de96e"
      },
      "source": [
        "def suma(x,y):\n",
        "    res= x+y\n",
        "    print(\"El resultado es: \",res)\n",
        "    return res\n",
        "def resta(x,y):\n",
        "    res= x-y\n",
        "    print(\"El resultado es: \",res)\n",
        "    return res\n",
        "def mult(x,y):\n",
        "    res= x+y\n",
        "    print(\"El resultado es: \",res)\n",
        "    return res\n",
        "def div(x,y):\n",
        "    res=x/y\n",
        "    print(\"El resultado es: \",res)\n",
        "    return res\n",
        "def pot(x,y):\n",
        "    res=x**y\n",
        "    print(\"El resultado es: \",res)\n",
        "    return res\n",
        "x=0\n",
        "y=0\n",
        "res=0\n",
        "x=float(input(\"Introduce el primer número: \"))\n",
        "y=float(input(\"Introduce el segundo número: \"))\n",
        "opcion=int(input(\"¿Qué quieres hacer con los números?\\n 1=Suma, 2=Resta, 3=Multiplicación, 4=División, 5=Exponente\\n\"))\n",
        "if opcion==1:\n",
        "  suma(x,y)\n",
        "elif opcion==2:\n",
        "  resta(x,y)\n",
        "elif opcion==3:\n",
        "  mult(x,y)\n",
        "elif opcion==4:\n",
        "  div(x,y)\n",
        "elif opcion==5:\n",
        "  pot(x,y)\n",
        "else:\n",
        "  print(\"Inténtelo de nuevo.\")"
      ],
      "execution_count": 84,
      "outputs": [
        {
          "output_type": "stream",
          "text": [
            "Introduce el primer número: 5\n",
            "Introduce el segundo número: 6\n",
            "¿Qué quieres hacer con los números?\n",
            " 1=Suma, 2=Resta, 3=Multiplicación, 4=División, 5=Exponente\n",
            "5\n",
            "El resultado es:  15625.0\n"
          ],
          "name": "stdout"
        }
      ]
    },
    {
      "cell_type": "markdown",
      "metadata": {
        "id": "yjt-mTJ2G6_w"
      },
      "source": [
        "**Tuplas**"
      ]
    },
    {
      "cell_type": "markdown",
      "metadata": {
        "id": "NH8Vt_rmAN19"
      },
      "source": [
        "Crear una variable flotante, integer, boleana y compleja e imprimir el tipo de variable que es."
      ]
    },
    {
      "cell_type": "code",
      "metadata": {
        "colab": {
          "base_uri": "https://localhost:8080/"
        },
        "id": "zFztfuRu6ab5",
        "outputId": "dcbfec4b-fe63-4bb3-d2f5-9d915f6180a3"
      },
      "source": [
        "w=3.333\n",
        "x=3\n",
        "y=True\n",
        "z=3+4j\n",
        "print(type(w))\n",
        "print(type(x))\n",
        "print(type(y))\n",
        "print(type(z))"
      ],
      "execution_count": null,
      "outputs": [
        {
          "output_type": "stream",
          "text": [
            "Hola mundo\n",
            "<class 'float'>\n",
            "<class 'int'>\n",
            "<class 'bool'>\n",
            "<class 'complex'>\n"
          ],
          "name": "stdout"
        }
      ]
    },
    {
      "cell_type": "markdown",
      "metadata": {
        "id": "BLewaJ83Cr8-"
      },
      "source": [
        "Crear una tupla con valores enteros imprimir el primer y ultimo valor."
      ]
    },
    {
      "cell_type": "code",
      "metadata": {
        "colab": {
          "base_uri": "https://localhost:8080/"
        },
        "id": "mwVS__bNDdGG",
        "outputId": "a3c2926f-cc05-4529-c819-2130f62d2db6"
      },
      "source": [
        "a = (1, 4, 9, 16, 25,36,49,64,81,100,121)\n",
        "print(\"\\nPrimer elemento: \",a[0])\n",
        "print(\"Último elemento:\",a[10])"
      ],
      "execution_count": null,
      "outputs": [
        {
          "output_type": "stream",
          "text": [
            "\n",
            "Primer elemento:  1\n",
            "Último elemento: 121\n"
          ],
          "name": "stdout"
        }
      ]
    },
    {
      "cell_type": "markdown",
      "metadata": {
        "id": "UKfGWDQNFRAp"
      },
      "source": [
        "Añadir 3 valores de string a la tupla."
      ]
    },
    {
      "cell_type": "code",
      "metadata": {
        "colab": {
          "base_uri": "https://localhost:8080/"
        },
        "id": "8Hu-upr9FVOQ",
        "outputId": "b64f1b9e-f170-4b8d-955c-335d486dd98b"
      },
      "source": [
        "tupla_a = (21, 3, 6, 68, 121)\n",
        "tupla_b = (\"Primero\", \"Segundo\", \"Tercero\")\n",
        "tupla_c = tupla_a + tupla_b\n",
        "print(tupla_c)"
      ],
      "execution_count": null,
      "outputs": [
        {
          "output_type": "stream",
          "text": [
            "(21, 3, 6, 68, 121, 'Primero', 'Segundo', 'Tercero')\n"
          ],
          "name": "stdout"
        }
      ]
    },
    {
      "cell_type": "code",
      "metadata": {
        "colab": {
          "base_uri": "https://localhost:8080/"
        },
        "id": "fuAmCg0Akgmv",
        "outputId": "012dc10a-2ce5-46c5-8aa7-e23d033805e3"
      },
      "source": [
        "tup= (21, 3, 6, 68, 121)\n",
        "auxiliar=list(tup)\n",
        "\n",
        "auxiliar.append(\"Ricardo\")\n",
        "auxiliar.append(\"González\")\n",
        "auxiliar.append(\"Berumen\")\n",
        "\n",
        "tup=tuple(auxiliar)\n",
        "\n",
        "print(\"\\n Tupla \\n >>>\",tup)"
      ],
      "execution_count": null,
      "outputs": [
        {
          "output_type": "stream",
          "text": [
            "\n",
            " Tupla \n",
            " >>> (21, 3, 6, 68, 121, 'Ricardo', 'González', 'Berumen')\n"
          ],
          "name": "stdout"
        }
      ]
    },
    {
      "cell_type": "markdown",
      "metadata": {
        "id": "Wl4gmTJvFzqg"
      },
      "source": [
        "Verificar si una variable existe dentro de la tupla."
      ]
    },
    {
      "cell_type": "code",
      "metadata": {
        "colab": {
          "base_uri": "https://localhost:8080/"
        },
        "id": "U8AOwfAeF27V",
        "outputId": "3d44dd52-3009-49a0-eaa3-29e4e3f20e39"
      },
      "source": [
        "a = (21, 3, 6, 68, 121)\n",
        "num=6\n",
        "print(\"¿El elemento se encuentra en la tupla? \\n >>\",num in tup)\n"
      ],
      "execution_count": null,
      "outputs": [
        {
          "output_type": "stream",
          "text": [
            "¿El elemento se encuentra en la tupla? \n",
            " >> True\n"
          ],
          "name": "stdout"
        }
      ]
    },
    {
      "cell_type": "markdown",
      "metadata": {
        "id": "q2pbtFhhG9wL"
      },
      "source": [
        "**Listas**"
      ]
    },
    {
      "cell_type": "markdown",
      "metadata": {
        "id": "NmnQkx_CHJr8"
      },
      "source": [
        "Crear una lista con 40 elementos aleatorios enteros."
      ]
    },
    {
      "cell_type": "code",
      "metadata": {
        "colab": {
          "base_uri": "https://localhost:8080/"
        },
        "id": "Ek9Z9IPRHMz-",
        "outputId": "6c6720ed-4b8f-4482-8a76-47b030285151"
      },
      "source": [
        "import random\n",
        "n=40\n",
        "def listaAleatorios(n):\n",
        "      lista = [0]  * n\n",
        "      for i in range(n):\n",
        "          lista[i] = random.randint(0, 1000)\n",
        "      return lista\n",
        "aleatorios=listaAleatorios(n)\n",
        "print(aleatorios)\n"
      ],
      "execution_count": null,
      "outputs": [
        {
          "output_type": "stream",
          "text": [
            "[596, 450, 213, 934, 18, 253, 171, 747, 115, 333, 767, 590, 69, 226, 758, 249, 179, 696, 542, 110, 716, 739, 920, 977, 273, 757, 94, 345, 892, 66, 89, 499, 293, 566, 940, 813, 768, 858, 177, 212]\n"
          ],
          "name": "stdout"
        }
      ]
    },
    {
      "cell_type": "markdown",
      "metadata": {
        "id": "8I5vGVubKqol"
      },
      "source": [
        "Con una funcion (def) crear dos listas nuevas a partir de la lista creada por numeros aleatorios, en la cual en una esten los elementos pares, y en la otra los elementos impares"
      ]
    },
    {
      "cell_type": "code",
      "metadata": {
        "id": "XmXrHQa_KxfT",
        "colab": {
          "base_uri": "https://localhost:8080/"
        },
        "outputId": "7c53890b-ecbd-4dbe-c5d6-0d4ed447fa7a"
      },
      "source": [
        "def separar_par(l):\n",
        "\n",
        "    a=list()\n",
        "\n",
        "    for i in range(40):\n",
        "\n",
        "        if l[i]%2==0:\n",
        "            a.append(l[i])\n",
        "    \n",
        "    return a\n",
        "\n",
        "def separar_impar(l):\n",
        "\n",
        "    a=list()\n",
        "\n",
        "    for i in range(40):\n",
        "\n",
        "        if l[i]%2!=0:\n",
        "            a.append(l[i])\n",
        "    \n",
        "    return a\n",
        "\n",
        "lista1=separar_par(aleatorios)\n",
        "lista2=separar_impar(aleatorios)\n",
        "\n",
        "print(\"Números pares: \", lista1)\n",
        "\n",
        "print(\"Números impares: \", lista2)"
      ],
      "execution_count": null,
      "outputs": [
        {
          "output_type": "stream",
          "text": [
            "Números pares:  [596, 450, 934, 18, 590, 226, 758, 696, 542, 110, 716, 920, 94, 892, 66, 566, 940, 768, 858, 212]\n",
            "Números impares:  [213, 253, 171, 747, 115, 333, 767, 69, 249, 179, 739, 977, 273, 757, 345, 89, 499, 293, 813, 177]\n"
          ],
          "name": "stdout"
        }
      ]
    },
    {
      "cell_type": "markdown",
      "metadata": {
        "id": "aovdzW6-m9TL"
      },
      "source": [
        "Crear dos variables con la longitud de ambas listas nuevas e imprimir las variables."
      ]
    },
    {
      "cell_type": "code",
      "metadata": {
        "colab": {
          "base_uri": "https://localhost:8080/"
        },
        "id": "VgKDK-Aum-ae",
        "outputId": "b3ac8643-6b10-4ad3-d65f-b54978f432e8"
      },
      "source": [
        "longitud1=len(lista1)\n",
        "longitud2=len(lista2)\n",
        "\n",
        "print(\"Cantidad de números pares: \", longitud1)\n",
        "print(\"Cantidad de números impares: \", longitud2)"
      ],
      "execution_count": null,
      "outputs": [
        {
          "output_type": "stream",
          "text": [
            "Cantidad de números pares:  20\n",
            "Cantidad de números impares:  20\n"
          ],
          "name": "stdout"
        }
      ]
    },
    {
      "cell_type": "markdown",
      "metadata": {
        "id": "GoWRZbjinWoz"
      },
      "source": [
        "Ordenar los elementos de la lista par de mayor a menor, y los de la lista impar de menor a mayor."
      ]
    },
    {
      "cell_type": "code",
      "metadata": {
        "colab": {
          "base_uri": "https://localhost:8080/"
        },
        "id": "cIKTUJ1unaBS",
        "outputId": "d458f640-41bc-4c35-b93e-7fded6c9ede0"
      },
      "source": [
        "lista1.sort(reverse=True)\n",
        "lista2.sort()\n",
        "\n",
        "print(\"Números pares en orden descendente: \", lista1)\n",
        "print(\"Números pares en orden ascendente: \", lista2)"
      ],
      "execution_count": null,
      "outputs": [
        {
          "output_type": "stream",
          "text": [
            "Números pares en orden descendente:  [940, 934, 920, 892, 858, 768, 758, 716, 696, 596, 590, 566, 542, 450, 226, 212, 110, 94, 66, 18]\n",
            "Números pares en orden ascendente:  [69, 89, 115, 171, 177, 179, 213, 249, 253, 273, 293, 333, 345, 499, 739, 747, 757, 767, 813, 977]\n"
          ],
          "name": "stdout"
        }
      ]
    },
    {
      "cell_type": "markdown",
      "metadata": {
        "id": "3-hCYgvPnttC"
      },
      "source": [
        "Utilizar al menos cuatro de las funciones de listas en python en la lista original de 40 elementos."
      ]
    },
    {
      "cell_type": "code",
      "metadata": {
        "colab": {
          "base_uri": "https://localhost:8080/"
        },
        "id": "lfB20PyJnydU",
        "outputId": "bc5072a4-83af-4105-fda7-693040e78bc7"
      },
      "source": [
        "y=aleatorios.count(69)\n",
        "\n",
        "print(y)\n",
        "\n",
        "aleatorios.reverse()\n",
        "\n",
        "print(aleatorios)\n",
        "\n",
        "aleatorios.insert(5,80)\n",
        "\n",
        "print(aleatorios)\n",
        "\n",
        "aleatorios.clear()\n",
        "\n",
        "print(aleatorios)"
      ],
      "execution_count": null,
      "outputs": [
        {
          "output_type": "stream",
          "text": [
            "1\n",
            "[212, 177, 858, 768, 813, 940, 566, 293, 499, 89, 66, 892, 345, 94, 757, 273, 977, 920, 739, 716, 110, 542, 696, 179, 249, 758, 226, 69, 590, 767, 333, 115, 747, 171, 253, 18, 934, 213, 450, 596]\n",
            "[212, 177, 858, 768, 813, 80, 940, 566, 293, 499, 89, 66, 892, 345, 94, 757, 273, 977, 920, 739, 716, 110, 542, 696, 179, 249, 758, 226, 69, 590, 767, 333, 115, 747, 171, 253, 18, 934, 213, 450, 596]\n",
            "[]\n"
          ],
          "name": "stdout"
        }
      ]
    },
    {
      "cell_type": "markdown",
      "metadata": {
        "id": "cgdgDurssLwP"
      },
      "source": [
        "**Diccionarios**"
      ]
    },
    {
      "cell_type": "markdown",
      "metadata": {
        "id": "RqQVgx55pxlN"
      },
      "source": [
        "Crear un diccionario de 6 personas que conozcas con su primer nombre y su edad."
      ]
    },
    {
      "cell_type": "code",
      "metadata": {
        "colab": {
          "base_uri": "https://localhost:8080/"
        },
        "id": "16YUfgamp2iC",
        "outputId": "79ebe794-6a34-4062-8559-ced90c952a68"
      },
      "source": [
        "diccionario={\"Rocío\":19,\"Ana Laura\":23,\"Luis Fernando\":21,\"Arturo\":20,\"Ernesto\":22}\n",
        "\n",
        "print(\"Personas: \", diccionario)"
      ],
      "execution_count": null,
      "outputs": [
        {
          "output_type": "stream",
          "text": [
            "Personas:  {'Rocío': 19, 'Ana Laura': 23, 'Luis Fernando': 21, 'Arturo': 20, 'Ernesto': 22}\n"
          ],
          "name": "stdout"
        }
      ]
    },
    {
      "cell_type": "markdown",
      "metadata": {
        "id": "-qQXqcSTqbZo"
      },
      "source": [
        "Crear una lista con los valores de la edad y reacomodar la lista de menor a mayor valor."
      ]
    },
    {
      "cell_type": "code",
      "metadata": {
        "colab": {
          "base_uri": "https://localhost:8080/"
        },
        "id": "lCWLl-v1qcZg",
        "outputId": "98f263ad-e783-4c27-a94b-fd03bfb2953e"
      },
      "source": [
        "valor=list(diccionario.values())\n",
        "\n",
        "valor.sort()\n",
        "\n",
        "print(\"Edades: \", valor)"
      ],
      "execution_count": null,
      "outputs": [
        {
          "output_type": "stream",
          "text": [
            "Edades:  [19, 20, 21, 22, 23, 25, 52]\n"
          ],
          "name": "stdout"
        }
      ]
    },
    {
      "cell_type": "markdown",
      "metadata": {
        "id": "ScQtX5pLrCfa"
      },
      "source": [
        "Usando el diccionario y un loop, imprimir solo los nombres."
      ]
    },
    {
      "cell_type": "code",
      "metadata": {
        "colab": {
          "base_uri": "https://localhost:8080/"
        },
        "id": "ES18X41CrDSQ",
        "outputId": "cba22b3b-c878-47f0-c5ec-bb6698edef68"
      },
      "source": [
        "for key in dicc:\n",
        "    print(key)"
      ],
      "execution_count": null,
      "outputs": [
        {
          "output_type": "stream",
          "text": [
            "Rocío\n",
            "Ana Laura\n",
            "Luis Fernando\n",
            "Arturo\n",
            "Ernesto\n"
          ],
          "name": "stdout"
        }
      ]
    },
    {
      "cell_type": "markdown",
      "metadata": {
        "id": "FLgGatM-rJd1"
      },
      "source": [
        "Añadir dos personas nuevas a tu diccionario, incluyendo edad."
      ]
    },
    {
      "cell_type": "code",
      "metadata": {
        "colab": {
          "base_uri": "https://localhost:8080/"
        },
        "id": "___xHsQ9rQEc",
        "outputId": "050bd524-69e4-43bc-f449-4d4b005451aa"
      },
      "source": [
        "diccionario[\"Pedro\"]=25\n",
        "diccionario[\"Marina\"]=52\n",
        "\n",
        "print(\"Personas: \", diccionario)"
      ],
      "execution_count": null,
      "outputs": [
        {
          "output_type": "stream",
          "text": [
            "Personas:  {'Rocío': 19, 'Ana Laura': 23, 'Luis Fernando': 21, 'Arturo': 20, 'Ernesto': 22, 'Pedro': 25, 'Marina': 52}\n"
          ],
          "name": "stdout"
        }
      ]
    },
    {
      "cell_type": "markdown",
      "metadata": {
        "id": "TysdfI2Lr62N"
      },
      "source": [
        "**Sets**"
      ]
    },
    {
      "cell_type": "markdown",
      "metadata": {
        "id": "YcINEO_qsFCo"
      },
      "source": [
        "Crea un set con 100 numeros aleatorios enteros del 1 al 25."
      ]
    },
    {
      "cell_type": "code",
      "metadata": {
        "colab": {
          "base_uri": "https://localhost:8080/"
        },
        "id": "gURrf4SbsGBK",
        "outputId": "5e9d0a83-d12a-4dd3-af26-73b6b88cc598"
      },
      "source": [
        "import random\n",
        "\n",
        "Enteros=set()\n",
        "\n",
        "for i in range(100):\n",
        "    Enteros.add(random.randrange(1,26))\n",
        "\n",
        "print(Enteros)\n"
      ],
      "execution_count": null,
      "outputs": [
        {
          "output_type": "stream",
          "text": [
            "{1, 2, 3, 4, 5, 6, 7, 8, 9, 10, 11, 12, 13, 14, 15, 16, 17, 18, 19, 20, 21, 22, 23, 24, 25}\n"
          ],
          "name": "stdout"
        }
      ]
    },
    {
      "cell_type": "markdown",
      "metadata": {
        "id": "DC6CVMdOvtUk"
      },
      "source": [
        "Comprueba la longitud de tu set."
      ]
    },
    {
      "cell_type": "code",
      "metadata": {
        "colab": {
          "base_uri": "https://localhost:8080/"
        },
        "id": "yXdWcUkhvymH",
        "outputId": "5747018d-3fcf-4590-c14b-b531a2b9a08d"
      },
      "source": [
        "print(len(Enteros))"
      ],
      "execution_count": null,
      "outputs": [
        {
          "output_type": "stream",
          "text": [
            "25\n"
          ],
          "name": "stdout"
        }
      ]
    },
    {
      "cell_type": "markdown",
      "metadata": {
        "id": "d5fy1r3HwXoC"
      },
      "source": [
        "Crea una lista de 5 numeros aleatorios del 1 al 10 y comprueba si cada valor aparece en el set inicial."
      ]
    },
    {
      "cell_type": "code",
      "metadata": {
        "colab": {
          "base_uri": "https://localhost:8080/"
        },
        "id": "qdr8JynpwfZG",
        "outputId": "9c749d4c-c3fb-4910-d429-a75b1a9f4409"
      },
      "source": [
        "comprobacion=[0]*5\n",
        "\n",
        "for i in range(5):\n",
        "    comprobacion[i]=random.randrange(1,11)\n",
        "    if comprobacion[i] in st:\n",
        "        print(\"El valor %d aparece en el set inicial\"%comprobacion[i])\n",
        "    else:\n",
        "        print(\"El valor %d no aparece en el set inicial\"%comprobacion[i])"
      ],
      "execution_count": null,
      "outputs": [
        {
          "output_type": "stream",
          "text": [
            "El valor 6 aparece en el set inicial\n",
            "El valor 9 aparece en el set inicial\n",
            "El valor 8 aparece en el set inicial\n",
            "El valor 7 aparece en el set inicial\n",
            "El valor 2 aparece en el set inicial\n"
          ],
          "name": "stdout"
        }
      ]
    },
    {
      "cell_type": "markdown",
      "metadata": {
        "id": "b1ROXvvYrgb4"
      },
      "source": [
        ""
      ]
    }
  ]
}